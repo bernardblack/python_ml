{
 "cells": [
  {
   "cell_type": "code",
   "execution_count": 46,
   "id": "3ed61be8",
   "metadata": {},
   "outputs": [],
   "source": [
    "import numpy as np\n",
    "\n",
    "# Класс, методы которого реализуют все стандартные быстрые унарные математические операции \n",
    "# над элементами выбранного среза двухмерного массива, обнуляя при\n",
    "# этом все элементы, не относящиеся к срезу; по умолчанию (если срез не задан) быстрые унарные\n",
    "# математические операции выполняются над всеми элементами массива\n",
    "\n",
    "class Flat:\n",
    "    \n",
    "    def __init__(self, array, slice=None):\n",
    "        \n",
    "        self.array = array\n",
    "        \n",
    "        self.methods = ['abs', 'fabs',\n",
    "                        'square',\n",
    "                        'exp',\n",
    "                        'log','log10','log2','log1p',\n",
    "                        'sign'\n",
    "                        'ceil',\n",
    "                        'floor',\n",
    "                        'rint',\n",
    "                        'modf',\n",
    "                        'isnan',\n",
    "                        'isfinite','isinf',\n",
    "                        'cos','cosh','sin','sinh','tan','tanh',\n",
    "                        'arccos','arccosh','arcsin', 'arcsinh','arctan','arctanh',\n",
    "                        'logical_not']\n",
    "\n",
    "        if slice is None:\n",
    "            self.negative = np.full(self.array.shape, True)\n",
    "        else:\n",
    "            self.negative = np.zeros(self.array.shape, dtype=bool)\n",
    "            try:\n",
    "                self.negative[int(slice[0]):int(slice[1]), int(slice[2]):int(slice[3])] = True\n",
    "            except(IndexError, ValueError): # incorrect slice values == without slice\n",
    "                self.negative = np.full(self.array.shape, True)\n",
    "                \n",
    "            self.add_methods()\n",
    "            \n",
    "    def sqrt(self):\n",
    "        # виконуєм операцію тільки в тих позиціях, де в відповідних позиціях \n",
    "        # масиву self.negative значення True\n",
    "        return np.sqrt(np.abs(self.array, where=self.negative, out=np.zeros(self.array.shape)))\n",
    "            \n",
    "    def add_methods(self):\n",
    "\n",
    "        local_variables = {}\n",
    "        \n",
    "        for method in self.methods:\n",
    "            code = f\"def {method}(self): return np.{method}(self.array, where=self.negative, out=np.zeros(self.array.shape))\"    \n",
    "            exec(code, None, local_variables)\n",
    "            \n",
    "        for name, value in local_variables.items():\n",
    "            setattr(Flat, name, value)\n",
    "\n",
    "    # преобразует исходный двумерный массив в трехмерный, копируя исходный\n",
    "    # двухмерный массив вдоль третьей оси (axis=2) заданное количество раз\n",
    "    def add_dimension(self, num=5):\n",
    "        return np.repeat(self.array[..., np.newaxis], num, axis=2)\n",
    "        \n"
   ]
  },
  {
   "cell_type": "code",
   "execution_count": 47,
   "id": "8cccd3e2",
   "metadata": {},
   "outputs": [
    {
     "name": "stdout",
     "output_type": "stream",
     "text": [
      "[[-1.0856306   0.99734545  0.2829785  -1.50629471 -0.57860025]\n",
      " [ 1.65143654 -2.42667924 -0.42891263  1.26593626 -0.8667404 ]\n",
      " [-0.67888615 -0.09470897  1.49138963 -0.638902   -0.44398196]\n",
      " [-0.43435128  2.20593008  2.18678609  1.0040539   0.3861864 ]\n",
      " [ 0.73736858  1.49073203 -0.93583387  1.17582904 -1.25388067]]\n"
     ]
    }
   ],
   "source": [
    "np.random.seed(123)\n",
    "array = np.random.randn(5, 5)\n",
    "print(array)"
   ]
  },
  {
   "cell_type": "code",
   "execution_count": 48,
   "id": "c02f3889",
   "metadata": {},
   "outputs": [],
   "source": [
    "f1 = Flat(array,(1,3,1,3))\n",
    "f2 = Flat(array)\n",
    "f3 = Flat(array,(2,4,1,4))"
   ]
  },
  {
   "cell_type": "code",
   "execution_count": 49,
   "id": "f995e6e9",
   "metadata": {},
   "outputs": [
    {
     "name": "stdout",
     "output_type": "stream",
     "text": [
      "[[ 0.          0.          0.          0.          0.        ]\n",
      " [ 0.          0.86810835 -0.4573056   0.          0.        ]\n",
      " [ 0.         -0.09499316 12.56691563  0.          0.        ]\n",
      " [ 0.          0.          0.          0.          0.        ]\n",
      " [ 0.          0.          0.          0.          0.        ]]\n"
     ]
    }
   ],
   "source": [
    "print(f1.tan())"
   ]
  },
  {
   "cell_type": "code",
   "execution_count": 50,
   "id": "80599d8a",
   "metadata": {},
   "outputs": [
    {
     "name": "stdout",
     "output_type": "stream",
     "text": [
      "[[1.0856306  0.99734545 0.2829785  1.50629471 0.57860025]\n",
      " [1.65143654 2.42667924 0.42891263 1.26593626 0.8667404 ]\n",
      " [0.67888615 0.09470897 1.49138963 0.638902   0.44398196]\n",
      " [0.43435128 2.20593008 2.18678609 1.0040539  0.3861864 ]\n",
      " [0.73736858 1.49073203 0.93583387 1.17582904 1.25388067]]\n"
     ]
    }
   ],
   "source": [
    "print(f2.abs())"
   ]
  },
  {
   "cell_type": "code",
   "execution_count": 51,
   "id": "9bbaec9d",
   "metadata": {},
   "outputs": [
    {
     "name": "stdout",
     "output_type": "stream",
     "text": [
      "[[ 0.          0.          0.          0.          0.        ]\n",
      " [ 0.          0.          0.          0.          0.        ]\n",
      " [ 0.         -0.09456745  0.99684894 -0.59631438  0.        ]\n",
      " [ 0.          0.80499235  0.816202    0.84365439  0.        ]\n",
      " [ 0.          0.          0.          0.          0.        ]]\n"
     ]
    }
   ],
   "source": [
    "print(f3.sin())"
   ]
  },
  {
   "cell_type": "code",
   "execution_count": 60,
   "id": "63352eeb",
   "metadata": {
    "scrolled": true
   },
   "outputs": [
    {
     "name": "stdout",
     "output_type": "stream",
     "text": [
      "[[0.         0.         0.         0.         0.        ]\n",
      " [0.         0.         0.         0.         0.        ]\n",
      " [0.         0.30774822 1.22122464 0.79931345 0.        ]\n",
      " [0.         1.48523738 1.47877858 1.0020249  0.        ]\n",
      " [0.         0.         0.         0.         0.        ]]\n"
     ]
    }
   ],
   "source": [
    "print(f3.sqrt())"
   ]
  },
  {
   "cell_type": "code",
   "execution_count": 59,
   "id": "2e1c5529",
   "metadata": {},
   "outputs": [
    {
     "name": "stdout",
     "output_type": "stream",
     "text": [
      "[[[-1.0856306  -1.0856306  -1.0856306  -1.0856306  -1.0856306 ]\n",
      "  [ 0.99734545  0.99734545  0.99734545  0.99734545  0.99734545]\n",
      "  [ 0.2829785   0.2829785   0.2829785   0.2829785   0.2829785 ]\n",
      "  [-1.50629471 -1.50629471 -1.50629471 -1.50629471 -1.50629471]\n",
      "  [-0.57860025 -0.57860025 -0.57860025 -0.57860025 -0.57860025]]\n",
      "\n",
      " [[ 1.65143654  1.65143654  1.65143654  1.65143654  1.65143654]\n",
      "  [-2.42667924 -2.42667924 -2.42667924 -2.42667924 -2.42667924]\n",
      "  [-0.42891263 -0.42891263 -0.42891263 -0.42891263 -0.42891263]\n",
      "  [ 1.26593626  1.26593626  1.26593626  1.26593626  1.26593626]\n",
      "  [-0.8667404  -0.8667404  -0.8667404  -0.8667404  -0.8667404 ]]\n",
      "\n",
      " [[-0.67888615 -0.67888615 -0.67888615 -0.67888615 -0.67888615]\n",
      "  [-0.09470897 -0.09470897 -0.09470897 -0.09470897 -0.09470897]\n",
      "  [ 1.49138963  1.49138963  1.49138963  1.49138963  1.49138963]\n",
      "  [-0.638902   -0.638902   -0.638902   -0.638902   -0.638902  ]\n",
      "  [-0.44398196 -0.44398196 -0.44398196 -0.44398196 -0.44398196]]\n",
      "\n",
      " [[-0.43435128 -0.43435128 -0.43435128 -0.43435128 -0.43435128]\n",
      "  [ 2.20593008  2.20593008  2.20593008  2.20593008  2.20593008]\n",
      "  [ 2.18678609  2.18678609  2.18678609  2.18678609  2.18678609]\n",
      "  [ 1.0040539   1.0040539   1.0040539   1.0040539   1.0040539 ]\n",
      "  [ 0.3861864   0.3861864   0.3861864   0.3861864   0.3861864 ]]\n",
      "\n",
      " [[ 0.73736858  0.73736858  0.73736858  0.73736858  0.73736858]\n",
      "  [ 1.49073203  1.49073203  1.49073203  1.49073203  1.49073203]\n",
      "  [-0.93583387 -0.93583387 -0.93583387 -0.93583387 -0.93583387]\n",
      "  [ 1.17582904  1.17582904  1.17582904  1.17582904  1.17582904]\n",
      "  [-1.25388067 -1.25388067 -1.25388067 -1.25388067 -1.25388067]]]\n"
     ]
    }
   ],
   "source": [
    "print(f2.add_dimension())"
   ]
  },
  {
   "cell_type": "code",
   "execution_count": null,
   "id": "fc8e0b58",
   "metadata": {},
   "outputs": [],
   "source": []
  }
 ],
 "metadata": {
  "kernelspec": {
   "display_name": "Python 3 (ipykernel)",
   "language": "python",
   "name": "python3"
  },
  "language_info": {
   "codemirror_mode": {
    "name": "ipython",
    "version": 3
   },
   "file_extension": ".py",
   "mimetype": "text/x-python",
   "name": "python",
   "nbconvert_exporter": "python",
   "pygments_lexer": "ipython3",
   "version": "3.9.7"
  }
 },
 "nbformat": 4,
 "nbformat_minor": 5
}
